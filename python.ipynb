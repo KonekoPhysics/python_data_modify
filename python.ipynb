{
 "cells": [
  {
   "attachments": {},
   "cell_type": "markdown",
   "metadata": {},
   "source": [
    "## Hello World!!!"
   ]
  },
  {
   "cell_type": "code",
   "execution_count": 1,
   "metadata": {},
   "outputs": [
    {
     "name": "stdout",
     "output_type": "stream",
     "text": [
      "Hello World!!!\n"
     ]
    }
   ],
   "source": [
    "print(\"Hello World!!!\")"
   ]
  },
  {
   "attachments": {},
   "cell_type": "markdown",
   "metadata": {},
   "source": [
    "## 変数"
   ]
  },
  {
   "cell_type": "code",
   "execution_count": 12,
   "metadata": {},
   "outputs": [
    {
     "name": "stdout",
     "output_type": "stream",
     "text": [
      "100\n",
      "aは100，bは40.5です\n",
      "2.4691358024691357\n",
      "<class 'int'>\n",
      "<class 'float'>\n",
      "<class 'str'>\n"
     ]
    }
   ],
   "source": [
    "a = 100\n",
    "b = 40.5\n",
    "c = \"a\"\n",
    "\n",
    "# aを出力\n",
    "print(a)\n",
    "\n",
    "# 文字列とくっつける\n",
    "print(f\"aは{a}，bは{b}です\")\n",
    "\n",
    "# 割り算をやってみよう\n",
    "print(a/b)\n",
    "\n",
    "# 型を調べる\n",
    "print(type(a))\n",
    "print(type(b))\n",
    "print(type(c))"
   ]
  },
  {
   "attachments": {},
   "cell_type": "markdown",
   "metadata": {},
   "source": [
    "## 配列"
   ]
  },
  {
   "cell_type": "code",
   "execution_count": 13,
   "metadata": {},
   "outputs": [
    {
     "name": "stdout",
     "output_type": "stream",
     "text": [
      "aは [1, 2, 3, 4, 5, 6]\n",
      "1番目の要素は 2\n",
      "[[1, 2, 3], [4, 5, 6]]\n",
      "[1, 2, 3, 4, 5, 6, [1, 2, 3], [4, 5, 6]]\n",
      "123\n"
     ]
    }
   ],
   "source": [
    "# 普通の配列\n",
    "a = [1,2,3,4,5,6]\n",
    "print(f\"aは {a}\")\n",
    "print(f\"1番目の要素は {a[1]}\")\n",
    "\n",
    "# 二次元配列\n",
    "b = [[1,2,3],[4,5,6]]\n",
    "print(b)\n",
    "\n",
    "# 足し算（引き算，掛け算，割り算はない）\n",
    "print(a + b)\n",
    "\n",
    "# 連想配列\n",
    "x_data = {\"a\":123, \"b\":345}\n",
    "print(x_data[\"a\"])"
   ]
  },
  {
   "attachments": {},
   "cell_type": "markdown",
   "metadata": {},
   "source": [
    "## if文"
   ]
  },
  {
   "cell_type": "code",
   "execution_count": 14,
   "metadata": {},
   "outputs": [
    {
     "name": "stdout",
     "output_type": "stream",
     "text": [
      "Hello World!!!\n"
     ]
    }
   ],
   "source": [
    "x_data = int(input(\"入力してください\"))\n",
    "\n",
    "# if文による分岐\n",
    "if(x_data == 1):\n",
    "    print(\"Hello World!!!\")\n",
    "elif(x_data == 2):\n",
    "    print(\"こんにちは！！！\")\n",
    "else:\n",
    "    print(\"さようなら\")"
   ]
  },
  {
   "attachments": {},
   "cell_type": "markdown",
   "metadata": {},
   "source": [
    "## while文"
   ]
  },
  {
   "cell_type": "code",
   "execution_count": 3,
   "metadata": {},
   "outputs": [],
   "source": [
    "stop = False\n",
    "\n",
    "while(not stop) :\n",
    "    x_data = input(\"やめますか？\")\n",
    "    if(x_data == \"a\"):\n",
    "        stop = True"
   ]
  },
  {
   "attachments": {},
   "cell_type": "markdown",
   "metadata": {},
   "source": [
    "## for文"
   ]
  },
  {
   "cell_type": "code",
   "execution_count": 6,
   "metadata": {},
   "outputs": [
    {
     "name": "stdout",
     "output_type": "stream",
     "text": [
      "15\n",
      "45\n"
     ]
    }
   ],
   "source": [
    "a = [3,1,4,5,2]\n",
    "# 初期値\n",
    "sum = 0\n",
    "# aの要素すべてをsumに足し続ける\n",
    "for i in a:\n",
    "    sum += i\n",
    "print(sum)\n",
    "\n",
    "sum = 0\n",
    "for i in range(10):\n",
    "    sum += i\n",
    "print(sum)\n",
    "\n"
   ]
  },
  {
   "attachments": {},
   "cell_type": "markdown",
   "metadata": {},
   "source": [
    "## 関数"
   ]
  },
  {
   "cell_type": "code",
   "execution_count": 9,
   "metadata": {},
   "outputs": [
    {
     "name": "stdout",
     "output_type": "stream",
     "text": [
      "True\n",
      "True\n",
      "False\n"
     ]
    }
   ],
   "source": [
    "def is_even_number(n):\n",
    "    x = n % 2\n",
    "    if(x == 0):\n",
    "        return True\n",
    "    return False\n",
    "\n",
    "print(is_even_number(2))\n",
    "print(is_even_number(10))\n",
    "print(is_even_number(5))"
   ]
  },
  {
   "attachments": {},
   "cell_type": "markdown",
   "metadata": {},
   "source": [
    "## ちょっと便利な関数（lambda式）"
   ]
  },
  {
   "cell_type": "code",
   "execution_count": 13,
   "metadata": {},
   "outputs": [
    {
     "name": "stdout",
     "output_type": "stream",
     "text": [
      "4\n",
      "10000\n",
      "6\n"
     ]
    }
   ],
   "source": [
    "# 1行で書ける程度の小さい関数はこういう書き方も出来る\n",
    "f = lambda x: x**2\n",
    "g = lambda x, y: x**2*y + y**2*x\n",
    "\n",
    "print(f(2))\n",
    "print(f(100))\n",
    "print(g(1, 2))"
   ]
  },
  {
   "attachments": {},
   "cell_type": "markdown",
   "metadata": {},
   "source": [
    "## 関数の基本:最小二乗法の式をつくろう"
   ]
  },
  {
   "cell_type": "code",
   "execution_count": 29,
   "metadata": {},
   "outputs": [
    {
     "name": "stdout",
     "output_type": "stream",
     "text": [
      "(3.7333333333333334) + (7.6)x\n",
      "18.933333333333334\n"
     ]
    }
   ],
   "source": [
    "# ここに書く\n",
    "\n",
    "# x, yはnumpyの配列\n",
    "def lsm(x_data, y_data):\n",
    "    # xの和\n",
    "    x_sum = 0\n",
    "    for i in range(len(x_data)):\n",
    "        x_sum += x_data[i]\n",
    "    # yの和\n",
    "    y_sum = 0\n",
    "    for i in range(len(y_data)):\n",
    "        y_sum += y_data[i]\n",
    "    # x^2の和\n",
    "    xx_sum = 0\n",
    "    for i in range(len(x_data)):\n",
    "        xx_sum += x_data[i]**2\n",
    "    # y^2の和\n",
    "    yy_sum = 0\n",
    "    for i in range(len(y_data)):\n",
    "        yy_sum += y_data[i]**2\n",
    "    # xyの和\n",
    "    xy_sum = 0\n",
    "    for i in range(len(x_data)):\n",
    "        xy_sum += x_data[i]*y_data[i]\n",
    "    # nを求める\n",
    "    n = len(x_data)\n",
    "    d = n * xx_sum - (x_sum)**2\n",
    "    d1 = y_sum*xx_sum - x_sum*xy_sum\n",
    "    d2 = n*xy_sum - x_sum*y_sum\n",
    "    # ラムダ式で「式を」返す\n",
    "    f = lambda x: d1/d + d2/d*x\n",
    "    print(f\"({d1/d}) + ({d2/d})x\")\n",
    "    return f\n",
    "\n",
    "# debug\n",
    "x_list = [1,2,3,4,5,6]\n",
    "y_list = [15,26,16,25,45,55]\n",
    "f = lsm(x_list, y_list)\n",
    "print(f(2))\n"
   ]
  },
  {
   "attachments": {},
   "cell_type": "markdown",
   "metadata": {},
   "source": [
    "## pandasを使ってみよう"
   ]
  },
  {
   "cell_type": "code",
   "execution_count": 50,
   "metadata": {},
   "outputs": [
    {
     "data": {
      "text/html": [
       "<div>\n",
       "<style scoped>\n",
       "    .dataframe tbody tr th:only-of-type {\n",
       "        vertical-align: middle;\n",
       "    }\n",
       "\n",
       "    .dataframe tbody tr th {\n",
       "        vertical-align: top;\n",
       "    }\n",
       "\n",
       "    .dataframe thead th {\n",
       "        text-align: right;\n",
       "    }\n",
       "</style>\n",
       "<table border=\"1\" class=\"dataframe\">\n",
       "  <thead>\n",
       "    <tr style=\"text-align: right;\">\n",
       "      <th></th>\n",
       "      <th>時刻</th>\n",
       "      <th>温度</th>\n",
       "    </tr>\n",
       "  </thead>\n",
       "  <tbody>\n",
       "    <tr>\n",
       "      <th>0</th>\n",
       "      <td>1</td>\n",
       "      <td>12</td>\n",
       "    </tr>\n",
       "    <tr>\n",
       "      <th>1</th>\n",
       "      <td>2</td>\n",
       "      <td>25</td>\n",
       "    </tr>\n",
       "    <tr>\n",
       "      <th>2</th>\n",
       "      <td>3</td>\n",
       "      <td>30</td>\n",
       "    </tr>\n",
       "    <tr>\n",
       "      <th>3</th>\n",
       "      <td>4</td>\n",
       "      <td>38</td>\n",
       "    </tr>\n",
       "    <tr>\n",
       "      <th>4</th>\n",
       "      <td>5</td>\n",
       "      <td>45</td>\n",
       "    </tr>\n",
       "    <tr>\n",
       "      <th>5</th>\n",
       "      <td>6</td>\n",
       "      <td>60</td>\n",
       "    </tr>\n",
       "  </tbody>\n",
       "</table>\n",
       "</div>"
      ],
      "text/plain": [
       "   時刻  温度\n",
       "0   1  12\n",
       "1   2  25\n",
       "2   3  30\n",
       "3   4  38\n",
       "4   5  45\n",
       "5   6  60"
      ]
     },
     "metadata": {},
     "output_type": "display_data"
    },
    {
     "data": {
      "text/plain": [
       "<Axes: xlabel='時刻'>"
      ]
     },
     "execution_count": 50,
     "metadata": {},
     "output_type": "execute_result"
    },
    {
     "data": {
      "image/png": "[encoded data removed]",
      "text/plain": [
       "<Figure size 640x480 with 1 Axes>"
      ]
     },
     "metadata": {},
     "output_type": "display_data"
    }
   ],
   "source": [
    "import pandas as pd\n",
    "\n",
    "df = pd.read_csv(\"data.csv\")\n",
    "\n",
    "display(df)\n",
    "\n",
    "df.plot(x='時刻', y='温度')"
   ]
  },
  {
   "attachments": {},
   "cell_type": "markdown",
   "metadata": {},
   "source": [
    "## グラフ作成関数を作成する"
   ]
  },
  {
   "cell_type": "code",
   "execution_count": 58,
   "metadata": {},
   "outputs": [],
   "source": [
    "import matplotlib.pyplot as plt\n",
    "# 日本語を扱うのに必要\n",
    "import japanize_matplotlib\n",
    "import numpy as np\n",
    "import pandas as pd\n",
    "from tikzplotlib import save as tikz_save\n",
    "\n",
    "# アス比を決める関数（触らない）\n",
    "def adjustFigAspect(fig,aspect=1):\n",
    "    '''\n",
    "    Adjust the subplot parameters so that the figure has the correct\n",
    "    aspect ratio.\n",
    "    '''\n",
    "    xsize,ysize = fig.get_size_inches()\n",
    "    minsize = min(xsize,ysize)\n",
    "    xlim = .4*minsize/xsize\n",
    "    ylim = .4*minsize/ysize\n",
    "    if aspect < 1:\n",
    "        xlim *= aspect\n",
    "    else:\n",
    "        ylim /= aspect\n",
    "    fig.subplots_adjust(left=.5-xlim,\n",
    "                        right=.5+xlim,\n",
    "                        bottom=.5-ylim,\n",
    "                        top=.5+ylim)\n",
    "\n",
    "\n",
    "def make_plot(x_data, y_data):\n",
    "    # 目盛を内向きに\n",
    "    plt.rcParams['xtick.direction'] = 'in'\n",
    "    plt.rcParams['ytick.direction'] = 'in'\n",
    "    \n",
    "    # plot\n",
    "    fig, ax = plt.subplots()\n",
    "    ax.scatter(x_data, y_data,c=\"black\")\n",
    "\n",
    "\n",
    "    # ここに最小二乗法の式を貼りたい\n",
    "    #x_data = np.linspace(1, 6)\n",
    "    #y_data = np.linspace(1, 60)\n",
    "    f = lsm(x_data, y_data)\n",
    "    # グラフを端から端まで表示したいので，新しく作る\n",
    "    lim_list = ax.get_xlim()\n",
    "    # 軸を固定\n",
    "    ax.set_xlim(lim_list[0],lim_list[1])\n",
    "    # 軸から少しはみ出すようにx座標を設定\n",
    "    x_data = np.linspace(lim_list[0]-1, lim_list[1]+1)\n",
    "    # 直線をプロット\n",
    "    ax.plot(x_data, [f(x_data[k]) for k in range(len(x_data))],c=\"black\")\n",
    "    \n",
    "    # アス比を決める\n",
    "    adjustFigAspect(fig)\n",
    "\n",
    "    # 補助目盛の追加\n",
    "    ax.minorticks_on()\n",
    "    \n",
    "    # ラベルの設定\n",
    "    ax.set_xlabel(r\"時刻$t/\\mathrm{s}$\")\n",
    "    ax.set_ylabel(r\"温度$T/\\mathrm{C}^{\\circ}$\")\n",
    "\n",
    "    # 目盛を手動で決める（最小値，最大値，間隔）\n",
    "    #ax.set_xticks( np.arange(0, 10, 1))\n",
    "    #ax.set_yticks( np.arange(0, 65, 10))\n",
    "\n",
    "    # すべての方向に目盛を\n",
    "    ax.tick_params(bottom=True, top=True, left=True, right=True)\n",
    "    ax.tick_params(which=\"minor\", bottom=True, top=True, left=True, right=True)\n",
    "\n",
    "    # 対数目盛にする\n",
    "    # plt.xscale(\"log\")\n",
    "    # plt.yscale(\"log\")\n",
    "\n",
    "    # 色の設定\n",
    "    plt.gca().spines['bottom'].set_color(\"black\")\n",
    "    plt.gca().spines['top'].set_color(\"black\")\n",
    "    plt.gca().spines['right'].set_color(\"black\")\n",
    "    plt.gca().spines['left'].set_color(\"black\")\n",
    "\n",
    "    \n",
    "    tikz_save('hoge.tex', strict=True)\n"
   ]
  },
  {
   "attachments": {},
   "cell_type": "markdown",
   "metadata": {},
   "source": [
    "## 実行してみよう"
   ]
  },
  {
   "cell_type": "code",
   "execution_count": 59,
   "metadata": {},
   "outputs": [
    {
     "name": "stdout",
     "output_type": "stream",
     "text": [
      "(4.2) + (8.8)x\n"
     ]
    },
    {
     "data": {
      "image/png": "[encoded data removed]",
      "text/plain": [
       "<Figure size 640x480 with 1 Axes>"
      ]
     },
     "metadata": {},
     "output_type": "display_data"
    }
   ],
   "source": [
    "# データ\n",
    "# x = np.linspace(1, 1000)\n",
    "# y = np.log10(x)\n",
    "df = pd.read_csv(\"data.csv\")\n",
    "x_data = df['時刻'].to_numpy()\n",
    "y_data = df['温度'].to_numpy()\n",
    "make_plot(x_data, y_data)"
   ]
  }
 ],
 "metadata": {
  "kernelspec": {
   "display_name": "Python 3",
   "language": "python",
   "name": "python3"
  },
  "language_info": {
   "codemirror_mode": {
    "name": "ipython",
    "version": 3
   },
   "file_extension": ".py",
   "mimetype": "text/x-python",
   "name": "python",
   "nbconvert_exporter": "python",
   "pygments_lexer": "ipython3",
   "version": "3.11.1"
  },
  "orig_nbformat": 4
 },
 "nbformat": 4,
 "nbformat_minor": 2
}
